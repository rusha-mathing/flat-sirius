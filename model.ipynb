{
 "cells": [
  {
   "cell_type": "markdown",
   "metadata": {},
   "source": [
    "# Обучение модели.\n",
    "Когда завершён этап обработки данных, пора перейти к обучению модели.\n",
    "\n",
    "\n",
    "## Установка нужных утилит.\n",
    "Установим парочку библиотек для работы с матрицами, данными и нейронными сетями.\n",
    "В условиях ограниченного времени, мы не будем разрабатывать и тестировать свои собственные решения, поэтому воспользуемя готовыми, оптимизированными и протестированными решениями."
   ]
  },
  {
   "cell_type": "code",
   "execution_count": 1,
   "metadata": {},
   "outputs": [
    {
     "name": "stdout",
     "output_type": "stream",
     "text": [
      "Requirement already satisfied: numpy in ./.venv/lib/python3.11/site-packages (1.26.4)\n",
      "Requirement already satisfied: pandas in ./.venv/lib/python3.11/site-packages (2.2.1)\n",
      "Requirement already satisfied: torch in ./.venv/lib/python3.11/site-packages (2.2.2)\n",
      "Requirement already satisfied: torchinfo in ./.venv/lib/python3.11/site-packages (1.8.0)\n",
      "Requirement already satisfied: torcheval in ./.venv/lib/python3.11/site-packages (0.0.7)\n",
      "Requirement already satisfied: matplotlib in ./.venv/lib/python3.11/site-packages (3.8.3)\n",
      "Requirement already satisfied: python-dateutil>=2.8.2 in ./.venv/lib/python3.11/site-packages (from pandas) (2.9.0.post0)\n",
      "Requirement already satisfied: pytz>=2020.1 in ./.venv/lib/python3.11/site-packages (from pandas) (2024.1)\n",
      "Requirement already satisfied: tzdata>=2022.7 in ./.venv/lib/python3.11/site-packages (from pandas) (2024.1)\n",
      "Requirement already satisfied: filelock in ./.venv/lib/python3.11/site-packages (from torch) (3.13.3)\n",
      "Requirement already satisfied: typing-extensions>=4.8.0 in ./.venv/lib/python3.11/site-packages (from torch) (4.10.0)\n",
      "Requirement already satisfied: sympy in ./.venv/lib/python3.11/site-packages (from torch) (1.12)\n",
      "Requirement already satisfied: networkx in ./.venv/lib/python3.11/site-packages (from torch) (3.2.1)\n",
      "Requirement already satisfied: jinja2 in ./.venv/lib/python3.11/site-packages (from torch) (3.1.3)\n",
      "Requirement already satisfied: fsspec in ./.venv/lib/python3.11/site-packages (from torch) (2024.3.1)\n",
      "Requirement already satisfied: nvidia-cuda-nvrtc-cu12==12.1.105 in ./.venv/lib/python3.11/site-packages (from torch) (12.1.105)\n",
      "Requirement already satisfied: nvidia-cuda-runtime-cu12==12.1.105 in ./.venv/lib/python3.11/site-packages (from torch) (12.1.105)\n",
      "Requirement already satisfied: nvidia-cuda-cupti-cu12==12.1.105 in ./.venv/lib/python3.11/site-packages (from torch) (12.1.105)\n",
      "Requirement already satisfied: nvidia-cudnn-cu12==8.9.2.26 in ./.venv/lib/python3.11/site-packages (from torch) (8.9.2.26)\n",
      "Requirement already satisfied: nvidia-cublas-cu12==12.1.3.1 in ./.venv/lib/python3.11/site-packages (from torch) (12.1.3.1)\n",
      "Requirement already satisfied: nvidia-cufft-cu12==11.0.2.54 in ./.venv/lib/python3.11/site-packages (from torch) (11.0.2.54)\n",
      "Requirement already satisfied: nvidia-curand-cu12==10.3.2.106 in ./.venv/lib/python3.11/site-packages (from torch) (10.3.2.106)\n",
      "Requirement already satisfied: nvidia-cusolver-cu12==11.4.5.107 in ./.venv/lib/python3.11/site-packages (from torch) (11.4.5.107)\n",
      "Requirement already satisfied: nvidia-cusparse-cu12==12.1.0.106 in ./.venv/lib/python3.11/site-packages (from torch) (12.1.0.106)\n",
      "Requirement already satisfied: nvidia-nccl-cu12==2.19.3 in ./.venv/lib/python3.11/site-packages (from torch) (2.19.3)\n",
      "Requirement already satisfied: nvidia-nvtx-cu12==12.1.105 in ./.venv/lib/python3.11/site-packages (from torch) (12.1.105)\n",
      "Requirement already satisfied: triton==2.2.0 in ./.venv/lib/python3.11/site-packages (from torch) (2.2.0)\n",
      "Requirement already satisfied: nvidia-nvjitlink-cu12 in ./.venv/lib/python3.11/site-packages (from nvidia-cusolver-cu12==11.4.5.107->torch) (12.4.99)\n",
      "Requirement already satisfied: contourpy>=1.0.1 in ./.venv/lib/python3.11/site-packages (from matplotlib) (1.2.0)\n",
      "Requirement already satisfied: cycler>=0.10 in ./.venv/lib/python3.11/site-packages (from matplotlib) (0.12.1)\n",
      "Requirement already satisfied: fonttools>=4.22.0 in ./.venv/lib/python3.11/site-packages (from matplotlib) (4.50.0)\n",
      "Requirement already satisfied: kiwisolver>=1.3.1 in ./.venv/lib/python3.11/site-packages (from matplotlib) (1.4.5)\n",
      "Requirement already satisfied: packaging>=20.0 in ./.venv/lib/python3.11/site-packages (from matplotlib) (24.0)\n",
      "Requirement already satisfied: pillow>=8 in ./.venv/lib/python3.11/site-packages (from matplotlib) (10.2.0)\n",
      "Requirement already satisfied: pyparsing>=2.3.1 in ./.venv/lib/python3.11/site-packages (from matplotlib) (3.1.2)\n",
      "Requirement already satisfied: six>=1.5 in ./.venv/lib/python3.11/site-packages (from python-dateutil>=2.8.2->pandas) (1.16.0)\n",
      "Requirement already satisfied: MarkupSafe>=2.0 in ./.venv/lib/python3.11/site-packages (from jinja2->torch) (2.1.5)\n",
      "Requirement already satisfied: mpmath>=0.19 in ./.venv/lib/python3.11/site-packages (from sympy->torch) (1.3.0)\n",
      "Note: you may need to restart the kernel to use updated packages.\n"
     ]
    }
   ],
   "source": [
    "%pip install numpy pandas torch torchinfo torcheval matplotlib"
   ]
  },
  {
   "cell_type": "markdown",
   "metadata": {},
   "source": [
    "## Полезные функции и импорты.\n",
    "\n",
    "Для более выраженного и качественного кода."
   ]
  },
  {
   "cell_type": "code",
   "execution_count": 2,
   "metadata": {},
   "outputs": [],
   "source": [
    "# (Де-факто стандарт) Библиотека для работы с линейной алгеброй.\n",
    "import numpy as np\n",
    "\n",
    "# pandas - данные\n",
    "import pandas as pd\n",
    "\n",
    "# Torch - простое решение, с открытым исходным кодом.\n",
    "import torch\n",
    "from torch import nn\n",
    "from torch import optim\n",
    "from torch.utils.data import Dataset, DataLoader, random_split\n",
    "# Для подведения итогов обучения.\n",
    "from torchinfo import summary\n",
    "from torcheval.metrics import MeanSquaredError\n",
    "\n",
    "# Графики для анализа процесса обучения.\n",
    "import matplotlib.pyplot as plt"
   ]
  },
  {
   "cell_type": "code",
   "execution_count": 3,
   "metadata": {},
   "outputs": [
    {
     "name": "stdout",
     "output_type": "stream",
     "text": [
      "mkdir: невозможно создать каталог «checkpoints/»: Файл существует\n",
      "mkdir: невозможно создать каталог «checkpoints/model/»: Файл существует\n",
      "mkdir: невозможно создать каталог «checkpoints/optimizer/»: Файл существует\n"
     ]
    }
   ],
   "source": [
    "%mkdir checkpoints/ checkpoints/model/ checkpoints/optimizer/"
   ]
  },
  {
   "cell_type": "code",
   "execution_count": 4,
   "metadata": {},
   "outputs": [
    {
     "name": "stderr",
     "output_type": "stream",
     "text": [
      "/home/rushan/Projects/sirius/ii/.venv/lib/python3.11/site-packages/torch/cuda/__init__.py:141: UserWarning: CUDA initialization: The NVIDIA driver on your system is too old (found version 11040). Please update your GPU driver by downloading and installing a new version from the URL: http://www.nvidia.com/Download/index.aspx Alternatively, go to: https://pytorch.org to install a PyTorch version that has been compiled with your version of the CUDA driver. (Triggered internally at ../c10/cuda/CUDAFunctions.cpp:108.)\n",
      "  return torch._C._cuda_getDeviceCount() > 0\n"
     ]
    }
   ],
   "source": [
    "# Инициализация генератора псевдо-случаных чисел\n",
    "generator = torch.Generator().manual_seed(73)\n",
    "# Cuda - классная штука, когда она у тебя есть.\n",
    "device = torch.device('cuda' if torch.cuda.is_available() else \"cpu\")"
   ]
  },
  {
   "cell_type": "code",
   "execution_count": 5,
   "metadata": {},
   "outputs": [
    {
     "data": {
      "text/plain": [
       "device(type='cpu')"
      ]
     },
     "execution_count": 5,
     "metadata": {},
     "output_type": "execute_result"
    }
   ],
   "source": [
    "device"
   ]
  },
  {
   "cell_type": "code",
   "execution_count": 6,
   "metadata": {},
   "outputs": [],
   "source": [
    "def split_dataset(dataset, fractions):\n",
    "    \"\"\"\n",
    "    split_dataset(dataset, fractions)\n",
    "\n",
    "    Разделить dataset на доли (процент от общей доли находиться в fractions)\n",
    "\n",
    "    Аргументы:\n",
    "    - dataset - разделяемый объект\n",
    "    - fractions - коэффициенты на которые делим.\n",
    "    \"\"\"\n",
    "    global generator\n",
    "    return random_split(dataset, fractions, generator=generator)"
   ]
  },
  {
   "cell_type": "code",
   "execution_count": 7,
   "metadata": {},
   "outputs": [],
   "source": [
    "def run(model, dataloader, loss_function, optimizer=None):\n",
    "    \"\"\"\n",
    "    run(model, dataloader, loss_function, optimizer=None)\n",
    "\n",
    "    Запустить (или обучить) модель и вернуть средний loss.\n",
    "\n",
    "    Аргументы:\n",
    "    - model - модель, которая будет запущена (или обучена)\n",
    "    - dataloader - загрузчик.\n",
    "    - loss_function - функция потерь для подсчета avg(total_loss)\n",
    "    - optimizer=None - оптимизатор. Обучает модель, если значение не None.\n",
    "    \"\"\"\n",
    "    global device\n",
    "\n",
    "    if optimizer:\n",
    "        model.train()\n",
    "    else:\n",
    "        model.eval()\n",
    "\n",
    "    total_loss = 0\n",
    "    for X, y in dataloader:\n",
    "        X = X.to(device)\n",
    "        y = y.to(device)\n",
    "        pred = model(X)\n",
    "        loss = loss_function(pred, y)\n",
    "        total_loss += loss.item()\n",
    "        print(total_loss)\n",
    "        if optimizer:\n",
    "            loss.backward()\n",
    "            optimizer.step()\n",
    "            optimizer.zero_grad()\n",
    "\n",
    "    return total_loss / len(dataloader)"
   ]
  },
  {
   "cell_type": "code",
   "execution_count": 8,
   "metadata": {},
   "outputs": [],
   "source": [
    "from IPython.display import clear_output\n",
    "\n",
    "def show_losses(train_loss_hist, test_loss_hist, clear=False):\n",
    "    \"\"\"\n",
    "    show_losses(train_loss_hist, test_loss_hist, clear=False)\n",
    "\n",
    "    Показывает графики изменения значений loss-a с течением времени (от количества эпох).\n",
    "\n",
    "    Аргументы:\n",
    "    - train_loss_hist, test_loss_hist - история значений train и test loss-ов\n",
    "    - clear=False - флаг, определяющий очищать ли экран перед отрисовкой графиков.\n",
    "    \"\"\"\n",
    "    if clear:\n",
    "        clear_output()\n",
    "\n",
    "    plt.figure(figsize=(12,4))\n",
    "\n",
    "    plt.subplot(1, 2, 1)\n",
    "    plt.title('Train Loss')\n",
    "    plt.plot(np.arange(len(train_loss_hist)), train_loss_hist)\n",
    "    plt.yscale('log')\n",
    "    plt.grid()\n",
    "\n",
    "    plt.subplot(1, 2, 2)\n",
    "    plt.title('Test Loss')\n",
    "    plt.plot(np.arange(len(test_loss_hist)), test_loss_hist)\n",
    "    plt.yscale('log')\n",
    "    plt.grid()\n",
    "\n",
    "    plt.show()"
   ]
  },
  {
   "cell_type": "code",
   "execution_count": 9,
   "metadata": {},
   "outputs": [],
   "source": [
    "# Структуры, чтобы объединить разные объекты в одну сущность\n",
    "# TrainValidLoader - два загрузчика, один для обучения, другой для валидации.\n",
    "from dataclasses import dataclass\n",
    "\n",
    "\n",
    "@dataclass\n",
    "class TrainTestLoader:\n",
    "    train_loader: DataLoader\n",
    "    test_loader: DataLoader"
   ]
  },
  {
   "cell_type": "code",
   "execution_count": 10,
   "metadata": {},
   "outputs": [],
   "source": [
    "def train_model(model, loss, optimizer,\n",
    "                loaders: TrainTestLoader,\n",
    "                model_name: str,\n",
    "                num_epochs: int=20,\n",
    "                show=True):\n",
    "    \"\"\"\n",
    "    train_model(model, loss, optimizer,\n",
    "                loaders: TrainTestLoader,\n",
    "                num_epochs: int=20,\n",
    "                show=True)\n",
    "\n",
    "\n",
    "    Обучает данную модель по данному Loss и Optimizer на данной выборке.\n",
    "\n",
    "    Аргументы:\n",
    "    - model - обучаемая модель.\n",
    "    - loss - функция потерь.\n",
    "    - optimizer - оптимизатор. Метод поиска оптимума Loss.\n",
    "    - loaders - загручики данных.\n",
    "    - num_epochs=20 - количество эпох. (По умолчанию 20)\n",
    "    - show=True - флаг, определяющий показывать ли графики обучения (по умолчанию True).\n",
    "    \"\"\"\n",
    "\n",
    "    train_loss_hist = []\n",
    "    test_loss_hist = []\n",
    "\n",
    "    for i in range(num_epochs):\n",
    "        print(i)\n",
    "        train_loss = run(model, loaders.train_loader, loss, optimizer)\n",
    "        print(train_loss)\n",
    "        train_loss_hist.append(train_loss)\n",
    "        test_loss = run(model, loaders.test_loader, loss)\n",
    "        test_loss_hist.append(test_loss)\n",
    "\n",
    "        if i % 10 == 9 and show:\n",
    "            show_losses(train_loss_hist, test_loss_hist, clear=True)\n",
    "\n",
    "        torch.save(model.state_dict(), f\"checkpoints/model/{model_name}_{i}.pt\")\n",
    "        torch.save(optimizer.state_dict(), f'checkpoints/optimizer/{model_name}_{i}.pt')\n",
    "\n",
    "    show_losses(train_loss_hist, test_loss_hist, clear=True)"
   ]
  },
  {
   "cell_type": "code",
   "execution_count": 11,
   "metadata": {},
   "outputs": [],
   "source": [
    "def count_metric(model, dataloader, metric):\n",
    "    global device\n",
    "    model.eval()\n",
    "    for X, y in dataloader:\n",
    "        X, y = X.to(device), y.to(device)\n",
    "        metric.update(model(X), y)\n",
    "    return metric.compute().item()\n",
    "\n",
    "\n",
    "def mean_squared_error(model, dataloader):\n",
    "    return count_metric(model, dataloader, MeanSquaredError())\n"
   ]
  },
  {
   "cell_type": "markdown",
   "metadata": {},
   "source": [
    "## Загрузка датасета.\n",
    "На предыдущем этапе мы занялись анализом данных, теперь пора обучить на них модель."
   ]
  },
  {
   "cell_type": "code",
   "execution_count": 12,
   "metadata": {},
   "outputs": [],
   "source": [
    "import pandas as pd\n",
    "\n",
    "data = pd.read_csv('result.csv')"
   ]
  },
  {
   "cell_type": "code",
   "execution_count": 13,
   "metadata": {},
   "outputs": [
    {
     "data": {
      "text/html": [
       "<div>\n",
       "<style scoped>\n",
       "    .dataframe tbody tr th:only-of-type {\n",
       "        vertical-align: middle;\n",
       "    }\n",
       "\n",
       "    .dataframe tbody tr th {\n",
       "        vertical-align: top;\n",
       "    }\n",
       "\n",
       "    .dataframe thead th {\n",
       "        text-align: right;\n",
       "    }\n",
       "</style>\n",
       "<table border=\"1\" class=\"dataframe\">\n",
       "  <thead>\n",
       "    <tr style=\"text-align: right;\">\n",
       "      <th></th>\n",
       "      <th>price_doc</th>\n",
       "      <th>timestamp</th>\n",
       "      <th>full_sq</th>\n",
       "      <th>num_room</th>\n",
       "      <th>kitch_sq</th>\n",
       "      <th>state</th>\n",
       "      <th>area_m</th>\n",
       "      <th>raion_popul</th>\n",
       "      <th>university_top_20_raion</th>\n",
       "      <th>radiation_raion</th>\n",
       "      <th>full_all</th>\n",
       "      <th>metro_min_avto</th>\n",
       "      <th>big_road1_km</th>\n",
       "      <th>oil_urals</th>\n",
       "      <th>gdp_quart</th>\n",
       "      <th>cpi</th>\n",
       "      <th>balance_trade_growth</th>\n",
       "      <th>deposits_growth</th>\n",
       "      <th>rent_price_2room_eco</th>\n",
       "      <th>rent_price_1room_eco</th>\n",
       "    </tr>\n",
       "  </thead>\n",
       "  <tbody>\n",
       "    <tr>\n",
       "      <th>0</th>\n",
       "      <td>5850000</td>\n",
       "      <td>2011-08-20</td>\n",
       "      <td>43</td>\n",
       "      <td>2.0</td>\n",
       "      <td>6.0</td>\n",
       "      <td>2.0</td>\n",
       "      <td>6.407578e+06</td>\n",
       "      <td>155572</td>\n",
       "      <td>0</td>\n",
       "      <td>False</td>\n",
       "      <td>86206</td>\n",
       "      <td>2.590241</td>\n",
       "      <td>1.422391</td>\n",
       "      <td>109.31</td>\n",
       "      <td>14313.7</td>\n",
       "      <td>354.0</td>\n",
       "      <td>10.1</td>\n",
       "      <td>0.009740</td>\n",
       "      <td>36.77</td>\n",
       "      <td>29.07</td>\n",
       "    </tr>\n",
       "    <tr>\n",
       "      <th>1</th>\n",
       "      <td>6000000</td>\n",
       "      <td>2011-08-23</td>\n",
       "      <td>34</td>\n",
       "      <td>2.0</td>\n",
       "      <td>6.0</td>\n",
       "      <td>2.0</td>\n",
       "      <td>9.589337e+06</td>\n",
       "      <td>115352</td>\n",
       "      <td>0</td>\n",
       "      <td>False</td>\n",
       "      <td>76284</td>\n",
       "      <td>0.936700</td>\n",
       "      <td>2.887377</td>\n",
       "      <td>109.31</td>\n",
       "      <td>14313.7</td>\n",
       "      <td>354.0</td>\n",
       "      <td>10.1</td>\n",
       "      <td>0.009740</td>\n",
       "      <td>36.77</td>\n",
       "      <td>29.07</td>\n",
       "    </tr>\n",
       "    <tr>\n",
       "      <th>2</th>\n",
       "      <td>5700000</td>\n",
       "      <td>2011-08-27</td>\n",
       "      <td>43</td>\n",
       "      <td>2.0</td>\n",
       "      <td>6.0</td>\n",
       "      <td>2.0</td>\n",
       "      <td>4.808270e+06</td>\n",
       "      <td>101708</td>\n",
       "      <td>0</td>\n",
       "      <td>True</td>\n",
       "      <td>101982</td>\n",
       "      <td>2.120999</td>\n",
       "      <td>0.647250</td>\n",
       "      <td>109.31</td>\n",
       "      <td>14313.7</td>\n",
       "      <td>354.0</td>\n",
       "      <td>10.1</td>\n",
       "      <td>0.009740</td>\n",
       "      <td>36.77</td>\n",
       "      <td>29.07</td>\n",
       "    </tr>\n",
       "    <tr>\n",
       "      <th>3</th>\n",
       "      <td>13100000</td>\n",
       "      <td>2011-09-01</td>\n",
       "      <td>89</td>\n",
       "      <td>2.0</td>\n",
       "      <td>6.0</td>\n",
       "      <td>2.0</td>\n",
       "      <td>1.258354e+07</td>\n",
       "      <td>178473</td>\n",
       "      <td>0</td>\n",
       "      <td>False</td>\n",
       "      <td>21155</td>\n",
       "      <td>1.489049</td>\n",
       "      <td>2.677824</td>\n",
       "      <td>111.29</td>\n",
       "      <td>14313.7</td>\n",
       "      <td>353.2</td>\n",
       "      <td>10.1</td>\n",
       "      <td>0.009607</td>\n",
       "      <td>37.73</td>\n",
       "      <td>30.63</td>\n",
       "    </tr>\n",
       "    <tr>\n",
       "      <th>4</th>\n",
       "      <td>16331452</td>\n",
       "      <td>2011-09-05</td>\n",
       "      <td>77</td>\n",
       "      <td>2.0</td>\n",
       "      <td>6.0</td>\n",
       "      <td>2.0</td>\n",
       "      <td>8.398461e+06</td>\n",
       "      <td>108171</td>\n",
       "      <td>0</td>\n",
       "      <td>True</td>\n",
       "      <td>28179</td>\n",
       "      <td>1.257186</td>\n",
       "      <td>1.721834</td>\n",
       "      <td>111.29</td>\n",
       "      <td>14313.7</td>\n",
       "      <td>353.2</td>\n",
       "      <td>10.1</td>\n",
       "      <td>0.018590</td>\n",
       "      <td>37.73</td>\n",
       "      <td>30.63</td>\n",
       "    </tr>\n",
       "  </tbody>\n",
       "</table>\n",
       "</div>"
      ],
      "text/plain": [
       "   price_doc   timestamp  full_sq  num_room  kitch_sq  state        area_m  \\\n",
       "0    5850000  2011-08-20       43       2.0       6.0    2.0  6.407578e+06   \n",
       "1    6000000  2011-08-23       34       2.0       6.0    2.0  9.589337e+06   \n",
       "2    5700000  2011-08-27       43       2.0       6.0    2.0  4.808270e+06   \n",
       "3   13100000  2011-09-01       89       2.0       6.0    2.0  1.258354e+07   \n",
       "4   16331452  2011-09-05       77       2.0       6.0    2.0  8.398461e+06   \n",
       "\n",
       "   raion_popul  university_top_20_raion  radiation_raion  full_all  \\\n",
       "0       155572                        0            False     86206   \n",
       "1       115352                        0            False     76284   \n",
       "2       101708                        0             True    101982   \n",
       "3       178473                        0            False     21155   \n",
       "4       108171                        0             True     28179   \n",
       "\n",
       "   metro_min_avto  big_road1_km  oil_urals  gdp_quart    cpi  \\\n",
       "0        2.590241      1.422391     109.31    14313.7  354.0   \n",
       "1        0.936700      2.887377     109.31    14313.7  354.0   \n",
       "2        2.120999      0.647250     109.31    14313.7  354.0   \n",
       "3        1.489049      2.677824     111.29    14313.7  353.2   \n",
       "4        1.257186      1.721834     111.29    14313.7  353.2   \n",
       "\n",
       "   balance_trade_growth  deposits_growth  rent_price_2room_eco  \\\n",
       "0                  10.1         0.009740                 36.77   \n",
       "1                  10.1         0.009740                 36.77   \n",
       "2                  10.1         0.009740                 36.77   \n",
       "3                  10.1         0.009607                 37.73   \n",
       "4                  10.1         0.018590                 37.73   \n",
       "\n",
       "   rent_price_1room_eco  \n",
       "0                 29.07  \n",
       "1                 29.07  \n",
       "2                 29.07  \n",
       "3                 30.63  \n",
       "4                 30.63  "
      ]
     },
     "execution_count": 13,
     "metadata": {},
     "output_type": "execute_result"
    }
   ],
   "source": [
    "data.head()"
   ]
  },
  {
   "cell_type": "code",
   "execution_count": 14,
   "metadata": {},
   "outputs": [],
   "source": [
    "data['radiation_raion'] = data['radiation_raion'].astype(float)"
   ]
  },
  {
   "cell_type": "code",
   "execution_count": 15,
   "metadata": {},
   "outputs": [],
   "source": [
    "data = data.drop(columns=['timestamp'])"
   ]
  },
  {
   "cell_type": "code",
   "execution_count": 16,
   "metadata": {},
   "outputs": [],
   "source": [
    "target = torch.from_numpy(data['price_doc'].to_numpy(dtype=np.float32))\n",
    "data = torch.from_numpy(data.drop(columns=['price_doc']).to_numpy(dtype=np.float32))"
   ]
  },
  {
   "cell_type": "code",
   "execution_count": 17,
   "metadata": {},
   "outputs": [],
   "source": [
    "class CustomDataset(Dataset):\n",
    "    def __init__(self, dataframe, targets):\n",
    "        self.dataframe = dataframe\n",
    "        self.targets = targets\n",
    "\n",
    "    def __getitem__(self, index):\n",
    "        return self.dataframe[index], self.targets[index]\n",
    "\n",
    "    def __len__(self):\n",
    "        return len(self.dataframe)"
   ]
  },
  {
   "cell_type": "code",
   "execution_count": 18,
   "metadata": {},
   "outputs": [],
   "source": [
    "dataset = CustomDataset(data, target / target.max())"
   ]
  },
  {
   "cell_type": "code",
   "execution_count": 19,
   "metadata": {},
   "outputs": [
    {
     "data": {
      "text/plain": [
       "(tensor([4.3000e+01, 2.0000e+00, 6.0000e+00, 2.0000e+00, 6.4076e+06, 1.5557e+05,\n",
       "         0.0000e+00, 0.0000e+00, 8.6206e+04, 2.5902e+00, 1.4224e+00, 1.0931e+02,\n",
       "         1.4314e+04, 3.5400e+02, 1.0100e+01, 9.7403e-03, 3.6770e+01, 2.9070e+01]),\n",
       " tensor(0.2714))"
      ]
     },
     "execution_count": 19,
     "metadata": {},
     "output_type": "execute_result"
    }
   ],
   "source": [
    "dataset[0]"
   ]
  },
  {
   "cell_type": "code",
   "execution_count": 20,
   "metadata": {},
   "outputs": [],
   "source": [
    "# Делим основную выборку на два подмножества: 0.8 обучающая, 0.2 тестовая.\n",
    "fractions = [0.8, 0.2]\n",
    "train_dataset, test_dataset = split_dataset(dataset, fractions)"
   ]
  },
  {
   "cell_type": "code",
   "execution_count": 21,
   "metadata": {},
   "outputs": [],
   "source": [
    "BATCH_SIZE = 50\n",
    "\n",
    "train_loader = DataLoader(train_dataset, batch_size=BATCH_SIZE, shuffle=True)\n",
    "test_loader = DataLoader(test_dataset, batch_size=BATCH_SIZE, shuffle=True)\n",
    "\n",
    "train_test_loaders = TrainTestLoader(train_loader, test_loader)"
   ]
  },
  {
   "cell_type": "code",
   "execution_count": 22,
   "metadata": {},
   "outputs": [],
   "source": [
    "class ModelA(nn.Module):\n",
    "    def __init__(self) -> None:\n",
    "        super().__init__()\n",
    "\n",
    "        self.net = nn.Sequential(\n",
    "            nn.Linear(18, 32),\n",
    "            nn.ReLU(),\n",
    "\n",
    "            nn.Linear(32, 16),\n",
    "            nn.ReLU(),\n",
    "            nn.Dropout(0.5),\n",
    "            nn.Linear(16, 8),\n",
    "            nn.ReLU(),\n",
    "            nn.Dropout(0.5),\n",
    "            nn.Linear(8, 4),\n",
    "            nn.ReLU(),\n",
    "            nn.Dropout(0.5),\n",
    "            nn.Linear(4, 1),\n",
    "            nn.Flatten(start_dim=0)\n",
    "        )\n",
    "\n",
    "    def forward(self, X):\n",
    "        return self.net(X)"
   ]
  },
  {
   "cell_type": "code",
   "execution_count": 23,
   "metadata": {},
   "outputs": [
    {
     "name": "stdout",
     "output_type": "stream",
     "text": [
      "torch.Size([50])\n",
      "torch.Size([50])\n"
     ]
    }
   ],
   "source": [
    "model = ModelA()\n",
    "\n",
    "for X, y in test_loader:\n",
    "    print(model(X).shape)\n",
    "    print(y.shape)\n",
    "    break"
   ]
  },
  {
   "cell_type": "code",
   "execution_count": 31,
   "metadata": {},
   "outputs": [
    {
     "data": {
      "image/png": "[encoded data removed]",
      "text/plain": [
       "<Figure size 1200x400 with 2 Axes>"
      ]
     },
     "metadata": {},
     "output_type": "display_data"
    },
    {
     "data": {
      "text/plain": [
       "tensor(nan, grad_fn=<MseLossBackward0>)"
      ]
     },
     "execution_count": 31,
     "metadata": {},
     "output_type": "execute_result"
    }
   ],
   "source": [
    "\n",
    "model = ModelA()\n",
    "\n",
    "loss_function = nn.MSELoss()\n",
    "optimizer = optim.SGD(model.parameters(), lr=0.0001)\n",
    "\n",
    "train_model(model=model,\n",
    "            loss=loss_function,\n",
    "            optimizer=optimizer,\n",
    "            loaders=train_test_loaders,\n",
    "            model_name=\"Model A\",\n",
    "            num_epochs=10,\n",
    "            show=True)\n",
    "X, y = dataset[0]\n",
    "loss_function(model(X), y)"
   ]
  },
  {
   "cell_type": "code",
   "execution_count": 25,
   "metadata": {},
   "outputs": [
    {
     "data": {
      "text/plain": [
       "nan"
      ]
     },
     "execution_count": 25,
     "metadata": {},
     "output_type": "execute_result"
    }
   ],
   "source": [
    "mean_squared_error(model, test_loader)"
   ]
  },
  {
   "cell_type": "markdown",
   "metadata": {},
   "source": [
    "! Дополнение к итогу.\n",
    "Модель не смогла обучиться, так как SGD сильно уносит в сторону, и она выдаёт сильно большие числа, из-за чего loss не становиться поточнее. \n",
    "Так, что модель не смогла обучиться. Точнее будет сказать она ушла в бесконечность, поэтому и результат обучения бесполезный. \n",
    "\n",
    "Для исправления ситуации не помогла нормализация.\n",
    "Для решения задачи можно пересмотреть данные (возможно потеряли важные признаки и теперь нет зависимости).\n",
    "Также можно попробовать другие оптимизаторы (код не буду силньо менять)"
   ]
  }
 ],
 "metadata": {
  "kernelspec": {
   "display_name": ".venv",
   "language": "python",
   "name": "python3"
  },
  "language_info": {
   "codemirror_mode": {
    "name": "ipython",
    "version": 3
   },
   "file_extension": ".py",
   "mimetype": "text/x-python",
   "name": "python",
   "nbconvert_exporter": "python",
   "pygments_lexer": "ipython3",
   "version": "3.11.6"
  }
 },
 "nbformat": 4,
 "nbformat_minor": 2
}
